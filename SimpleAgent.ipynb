{
  "nbformat": 4,
  "nbformat_minor": 0,
  "metadata": {
    "colab": {
      "provenance": []
    },
    "kernelspec": {
      "name": "python3",
      "display_name": "Python 3"
    },
    "language_info": {
      "name": "python"
    }
  },
  "cells": [
    {
      "cell_type": "markdown",
      "source": [
        "# Agentes Inteligentes\n",
        "\n",
        "Um agente é tudo aquilo que pode perceber o ambiente em que se encontra, através de sensores, e agir sobre este ambiente por meio de atuadores.\n",
        "\n",
        "Este programa simula um parque com uma densa neblina e com um cachorro que está buscando por água e comida. Este cachorro é um agente que só consegue informação do local que se encontra no momento neste ambiente.\n",
        "\n",
        "Vamos desenvolver um programa de agente que ajude o cachorro a encontrar água e comida antes que o tempo acabe.\n",
        "\n",
        "Lembre-se que existem alguns tipos básicos de programas de agentes como, por exemplo, agentes reativos simples, agentes reativos baseados em tabelos, agentes reativos baseados em modelos, entre outros."
      ],
      "metadata": {
        "id": "jbsAy1lhzvmk"
      }
    },
    {
      "cell_type": "code",
      "execution_count": null,
      "metadata": {
        "id": "pic-v7VF5e3z"
      },
      "outputs": [],
      "source": [
        "#Download and extract all necessary files\n",
        "!rm -rf /content/*\n",
        "!wget https://github.com/shandragon/Introducao-agentes-inteligentes/archive/refs/heads/main.zip 2>/dev/null\n",
        "!unzip -q main.zip\n",
        "!mv Introducao-agentes-inteligentes-main/* /content\n",
        "!rm -rf Introducao-agentes-inteligentes-main\n",
        "#Install Libraries\n",
        "!pip install ipythonblocks 2>/dev/null"
      ]
    },
    {
      "cell_type": "code",
      "source": [
        "from park import *"
      ],
      "metadata": {
        "id": "F_I90XAx58qw"
      },
      "execution_count": null,
      "outputs": []
    },
    {
      "cell_type": "markdown",
      "source": [
        "## Dog (Agent)\n",
        "\n",
        "Dog é uma classe com um atributo de instância obrigatório, .program, que deve conter uma função que recebe um argumento, o percept, e retorna uma ação.\n",
        "\n",
        "O argumento percept é uma lista (list) contendo as percepções dos agente. Neste ambiente as percepções são um obstáculo (Bump), água (Water), comida (Food) e próprio agente (Dog).\n",
        "\n",
        "Já as ações possíveis realizadas pelo agente é comer (eat), beber (drink) e se mover (turnleft, turnright e moveforward).\n",
        "\n",
        "Observe que 'program' é um slot, não um método. Se fosse um método, o programa poderia 'trapacear' e olhar para aspectos do agente. Ele não deveria fazer isso: o programa só pode olhar para as percepções. Um programa de agente que precisa de um modelo do mundo (e do próprio agente) terá que construir e manter seu próprio modelo."
      ],
      "metadata": {
        "id": "N1fnIC4430TQ"
      }
    },
    {
      "cell_type": "code",
      "source": [
        "class Dog(Agent):\n",
        "  location = [0,0] # change location to a 2d value\n",
        "  direction = Direction(\"down\") # variable to store the direction our dog is facing\n",
        "\n",
        "  def moveforward(self, success=True):\n",
        "    '''moveforward possible only if success (i.e. valid destination location)'''\n",
        "    if not success:\n",
        "      return\n",
        "    if self.direction.direction == Direction.R:\n",
        "      self.location[0] += 1\n",
        "    elif self.direction.direction == Direction.L:\n",
        "      self.location[0] -= 1\n",
        "    elif self.direction.direction == Direction.D:\n",
        "      self.location[1] += 1\n",
        "    elif self.direction.direction == Direction.U:\n",
        "      self.location[1] -= 1\n",
        "\n",
        "  def turn(self, d):\n",
        "    self.direction = self.direction + d\n",
        "\n",
        "  def eat(self, thing):\n",
        "    '''returns True upon success or False otherwise'''\n",
        "    if isinstance(thing, Food):\n",
        "      return True\n",
        "    return False\n",
        "\n",
        "  def drink(self, thing):\n",
        "    ''' returns True upon success or False otherwise'''\n",
        "    if isinstance(thing, Water):\n",
        "      return True\n",
        "    return False\n",
        "\n",
        "def program(percepts):\n",
        "  '''Returns an action based on the dog's percepts'''\n",
        "  for p in percepts:\n",
        "    if isinstance(p, Food):\n",
        "      return 'eat'\n",
        "    elif isinstance(p, Water):\n",
        "      return 'drink'\n",
        "\n",
        "    if isinstance(p, Bump): # then check if you are at an edge and have to turn\n",
        "      turn = False\n",
        "      choice = random.choice((1,2));\n",
        "    else:\n",
        "      choice = random.choice((1,2,3,4)) # 1-right, 2-left, others-forward\n",
        "\n",
        "  if choice == 1:\n",
        "    return 'turnright'\n",
        "  elif choice == 2:\n",
        "    return 'turnleft'\n",
        "  else:\n",
        "    return 'moveforward'"
      ],
      "metadata": {
        "id": "eJuDDFiE6MTU"
      },
      "execution_count": null,
      "outputs": []
    },
    {
      "cell_type": "markdown",
      "source": [
        "## Simulação\n",
        "\n",
        "Nosso parque é uma matriz com uma largura (width) e um comprimento (length). Colocaremos no parque uma quantidade de água e comida para o cachorro encontrar.\n",
        "\n",
        "A simulação finaliza se o cachorro encontrar toda água e comida ou os passos da simulação termine."
      ],
      "metadata": {
        "id": "rXf8iPtQFhnc"
      }
    },
    {
      "cell_type": "code",
      "source": [
        "width = 5\n",
        "length = 5\n",
        "park = Park(width, length, color={'Dog': (200,0,0), 'Water': (0, 200, 200), 'Food': (230, 115, 40)}, display=True)\n",
        "dog = Dog(program)\n",
        "park.add_thing(dog, [0,0])\n",
        "\n",
        "# Selecionando a posição da comida e da água\n",
        "loc_food = [1, 4] #[random.randint(1, width), random.randint(1, length)]\n",
        "loc_water = [3, 3] #[random.randint(1, width), random.randint(1, length)]\n",
        "\n",
        "park.add_thing(Food(), loc_food)\n",
        "park.add_thing(Water(), loc_water)\n",
        "\n",
        "print(\"Dog começa na posição (0,0) olhando para baixo, vamos ver se ele consegue encontrar alguma comida!\")\n",
        "# Número de step e delay\n",
        "park.run(60, 1)\n",
        "print('Finalizada a simulação com {}'.format(park.count_step))"
      ],
      "metadata": {
        "id": "njBQ3P2D6PH8"
      },
      "execution_count": null,
      "outputs": []
    }
  ]
}